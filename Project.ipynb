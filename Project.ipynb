{
 "cells": [
  {
   "cell_type": "code",
   "execution_count": 107,
   "metadata": {},
   "outputs": [],
   "source": [
    "# Automação de encaminhamento de mensagens no WhatsApp\n",
    "# Usando a Funcionalidade nativa do WhatsApp de encaminhar mensagem\n",
    "# Encaminhar de 5 em  5 mensagens\n",
    "\n",
    "from selenium import webdriver\n",
    "from selenium.webdriver.chrome.service import Service\n",
    "\n",
    "from webdriver_manager.chrome import ChromeDriverManager\n",
    "\n",
    "service = Service(ChromeDriverManager().install())\n",
    "browser = webdriver.Chrome(service=service)\n",
    "browser.get('https://web.whatsapp.com')"
   ]
  },
  {
   "cell_type": "code",
   "execution_count": 120,
   "metadata": {},
   "outputs": [],
   "source": [
    "from selenium.webdriver.common.keys import Keys\n",
    "import pyperclip\n",
    "import time\n",
    "\n",
    "mensagem = 'Teste de automatização de mensagem pelo Whatsapp' # Escreva sua mensagem aqui \n",
    "\n",
    "lista_de_contatos = ['Lucas Gomes', 'Mãe', 'Pai'] # Adicione seus contaos conforme está salvo na sua agenda \n",
    "\n",
    "# Pesquisando  e selecionando Contatos pela lupa do Whastapp \n",
    "\n",
    "browser.find_element('xpath', '//*[@id=\"side\"]/div[1]/div/div/button/div[2]/span').click()\n",
    "browser.find_element('xpath', '//*[@id=\"side\"]/div[1]/div/div/div[2]/div/div[1]/p').send_keys('Lucas Gomes')\n",
    "browser.find_element('xpath', '//*[@id=\"side\"]/div[1]/div/div/div[2]/div/div[1]/p').send_keys(Keys.ENTER)\n",
    "time.sleep(1)\n",
    "\n",
    "# Escrevendoe enviando  mensagem para a lista de distribuição\n",
    "pyperclip.copy(mensagem)\n",
    "browser.find_element('xpath', '//*[@id=\"main\"]/footer/div[1]/div/span[2]/div/div[2]/div[1]/div/div[1]/p').send_keys(Keys.CONTROL + 'v')\n",
    "browser.find_element('xpath', '//*[@id=\"main\"]/footer/div[1]/div/span[2]/div/div[2]/div[1]/div/div[1]/p').send_keys(Keys.ENTER)\n",
    "time.sleep(2)\n"
   ]
  },
  {
   "cell_type": "code",
   "execution_count": 115,
   "metadata": {},
   "outputs": [],
   "source": [
    "# Bibliotecas\n",
    "from selenium.webdriver.common.action_chains import ActionChains\n",
    "\n",
    "import pyperclip\n",
    "\n"
   ]
  },
  {
   "cell_type": "code",
   "execution_count": 125,
   "metadata": {},
   "outputs": [],
   "source": [
    "qtde_contatos = len(lista_de_contatos)\n",
    "\n",
    "if qtde_contatos % 5 == 0:\n",
    "    qtde_blocos = qtde_contatos / 5\n",
    "else:\n",
    "    qtde_blocos = int(qtde_contatos / 5) + 1\n",
    "\n",
    "for i in range(qtde_blocos):\n",
    "    # rodar o codigo de encaminhar\n",
    "    i_inicial = i * 5\n",
    "    i_final = (i + 1) * 5\n",
    "    lista_enviar = lista_de_contatos[i_inicial:i_final]\n",
    "\n",
    "    # selecionar a mensagem para enviar e abre a caixa de encaminhar\n",
    "    lista_elementos = browser.find_elements('class name', '_2AOIt') \n",
    "    for item in lista_elementos:\n",
    "        mensagem = mensagem.replace(\"\\n\", \"\")\n",
    "        texto = item.text.replace(\"\\n\", \"\")\n",
    "        if mensagem in texto:\n",
    "            elemento = item\n",
    "        \n",
    "    ActionChains(browser).move_to_element(elemento).perform()\n",
    "    elemento.find_element('class name', '_3u9t-').click()\n",
    "    time.sleep(0.5)\n",
    "    browser.find_element('xpath', '//*[@id=\"app\"]/div/span[4]/div/ul/div/li[4]/div').click()\n",
    "    browser.find_element('xpath', '//*[@id=\"main\"]/span[2]/div/button[4]/span').click()\n",
    "    time.sleep(1)\n",
    "\n",
    "    for nome in lista_enviar:\n",
    "        # selecionar os 5 conttos para enviar\n",
    "        # escrever o nome do contato\n",
    "        browser.find_element('xpath', '//*[@id=\"app\"]/div/span[2]/div/div/div/div/div/div/div/div[1]/div/div/div[2]/div/div[1]/p').send_keys(nome)\n",
    "        time.sleep(1)\n",
    "        # dar enter\n",
    "        browser.find_element('xpath', '//*[@id=\"app\"]/div/span[2]/div/div/div/div/div/div/div/div[1]/div/div/div[2]/div/div[1]/p').send_keys(Keys.ENTER)\n",
    "        time.sleep(1)\n",
    "        # apagar o nome do contato\n",
    "        browser.find_element('xpath', '//*[@id=\"app\"]/div/span[2]/div/div/div/div/div/div/div/div[1]/div/div/div[2]/div/div[1]/p').send_keys(Keys.BACKSPACE)\n",
    "        time.sleep(1)\n",
    "\n",
    "    browser.find_element('xpath', '//*[@id=\"app\"]/div/span[2]/div/div/div/div/div/div/div/span/div/div/div/span').click()\n",
    "    time.sleep(3)"
   ]
  },
  {
   "cell_type": "code",
   "execution_count": null,
   "metadata": {},
   "outputs": [],
   "source": []
  }
 ],
 "metadata": {
  "kernelspec": {
   "display_name": "pythonProject",
   "language": "python",
   "name": "python3"
  },
  "language_info": {
   "codemirror_mode": {
    "name": "ipython",
    "version": 3
   },
   "file_extension": ".py",
   "mimetype": "text/x-python",
   "name": "python",
   "nbconvert_exporter": "python",
   "pygments_lexer": "ipython3",
   "version": "3.11.3"
  },
  "orig_nbformat": 4
 },
 "nbformat": 4,
 "nbformat_minor": 2
}
